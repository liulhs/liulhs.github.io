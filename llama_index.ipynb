{
 "cells": [
  {
   "cell_type": "code",
   "execution_count": 1,
   "metadata": {},
   "outputs": [],
   "source": [
    "from llama_index import VectorStoreIndex, SimpleDirectoryReader"
   ]
  },
  {
   "cell_type": "code",
   "execution_count": 2,
   "metadata": {},
   "outputs": [],
   "source": [
    "documents = SimpleDirectoryReader(\"/home/jason/Desktop/Study/Q&A\").load_data()\n",
    "index = VectorStoreIndex.from_documents(documents)"
   ]
  },
  {
   "cell_type": "code",
   "execution_count": 3,
   "metadata": {},
   "outputs": [
    {
     "name": "stdout",
     "output_type": "stream",
     "text": [
      "This conversation is about a student's concern regarding the expectations for a Distance Vector problem in the final exam. The student is worried about the time it would take to keep track of distance vectors at each node and show the propagation of changes. They request an example problem with a step-by-step solution. The instructor clarifies that only one iteration is expected in the final exam and mentions that this has been mentioned multiple times before. The student then asks for clarification on what is meant by \"one iteration\" and provides an example with routers A, B, C, D, and E. The instructor explains that all routers send their distance vector to router A and he updates accordingly, but this process only happens once.\n"
     ]
    }
   ],
   "source": [
    "query_engine = index.as_query_engine()\n",
    "response = query_engine.query(\"What is this conversation about?\")\n",
    "print(response)"
   ]
  },
  {
   "cell_type": "code",
   "execution_count": 4,
   "metadata": {},
   "outputs": [
    {
     "name": "stdout",
     "output_type": "stream",
     "text": [
      "In the final exam, you are expected to perform one iteration of the distance vector algorithm. This means that all routers will send their distance vectors to a specific router, and that router will update its own distance vector accordingly. This process will only be done once, and you will not need to show the propagation of changes at each iteration.\n"
     ]
    }
   ],
   "source": [
    "response = query_engine.query(\"what is expected of us in a Distance vector problem in the final\")\n",
    "print(response)"
   ]
  }
 ],
 "metadata": {
  "kernelspec": {
   "display_name": "llama",
   "language": "python",
   "name": "python3"
  },
  "language_info": {
   "codemirror_mode": {
    "name": "ipython",
    "version": 3
   },
   "file_extension": ".py",
   "mimetype": "text/x-python",
   "name": "python",
   "nbconvert_exporter": "python",
   "pygments_lexer": "ipython3",
   "version": "3.10.13"
  }
 },
 "nbformat": 4,
 "nbformat_minor": 2
}
